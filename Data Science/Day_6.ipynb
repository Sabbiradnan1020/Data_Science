{
 "cells": [
  {
   "cell_type": "code",
   "execution_count": 1,
   "id": "aab9098b",
   "metadata": {},
   "outputs": [
    {
     "name": "stdout",
     "output_type": "stream",
     "text": [
      "18\n",
      "2\n",
      "80\n",
      "1.25\n"
     ]
    }
   ],
   "source": [
    "a=10\n",
    "b=8\n",
    "print(a+b)\n",
    "print(a-b)\n",
    "print(a*b)\n",
    "print(a/b)"
   ]
  },
  {
   "cell_type": "code",
   "execution_count": 3,
   "id": "ab1a361e",
   "metadata": {},
   "outputs": [
    {
     "name": "stdout",
     "output_type": "stream",
     "text": [
      "Mean 4.571428571428571\n",
      "Median 4\n",
      "Mode 1\n",
      "standerd variance 2.878491668515698\n",
      "variance 8.285714285714286\n"
     ]
    }
   ],
   "source": [
    "import statistics as stats\n",
    "\n",
    "data=[1,2,3,4,9,7,6]\n",
    "print('Mean',stats.mean(data))\n",
    "print('Median',stats.median(data))\n",
    "print('Mode',stats.mode(data))\n",
    "print('standerd variance',stats.stdev(data))\n",
    "print('variance',stats.variance(data))"
   ]
  }
 ],
 "metadata": {
  "kernelspec": {
   "display_name": "Python 3",
   "language": "python",
   "name": "python3"
  },
  "language_info": {
   "codemirror_mode": {
    "name": "ipython",
    "version": 3
   },
   "file_extension": ".py",
   "mimetype": "text/x-python",
   "name": "python",
   "nbconvert_exporter": "python",
   "pygments_lexer": "ipython3",
   "version": "3.12.2"
  }
 },
 "nbformat": 4,
 "nbformat_minor": 5
}
