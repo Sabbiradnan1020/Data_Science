{
 "cells": [
  {
   "cell_type": "code",
   "execution_count": null,
   "metadata": {},
   "outputs": [
    {
     "name": "stdout",
     "output_type": "stream",
     "text": [
      "     Name  Age          Ctiy  run\n",
      "0  Makram   34  South Africa  176\n",
      "1   Smith   45     Australia  100\n"
     ]
    }
   ],
   "source": [
    "import pandas as pd\n",
    "data={\n",
    "\n",
    "'Name':['Makram','Smith','Bravo'],\n",
    "'Age':[34,45,46],\n",
    "'Ctiy':['South Africa','Australia','West Indis']\n",
    "}\n",
    "\n",
    "df=pd.DataFrame(data)\n",
    "df['salary']=[50000,6000,7000]   #add kora\n",
    "df_filtered=df[df['Age']>45]  #filter\n",
    "df=df.drop('salary',axis=1)  #drop\n",
    "df['run']=[176,100,80]\n",
    "df_filtered=df[df['run']>86]\n",
    "print(df_filtered)\n",
    "\n",
    "\n",
    "\n",
    "# print(df.head())    # 5 row show\n",
    "# print(df.describe())   \n",
    "\n",
    "# print(df)\n",
    "# print(df_filtered)\n",
    "# print(df['Name'])\n",
    "# print(df.iloc[1])        #row specific\n",
    "\n",
    "# df.to_csv('output_file.csv',index=False)\n",
    "\n",
    "# df_read=pd.read_csv('output_file.csv')\n",
    "# print(df_read)\n",
    "\n",
    "\n",
    "\n"
   ]
  },
  {
   "cell_type": "code",
   "execution_count": 120,
   "metadata": {},
   "outputs": [
    {
     "data": {
      "text/html": [
       "<div>\n",
       "<style scoped>\n",
       "    .dataframe tbody tr th:only-of-type {\n",
       "        vertical-align: middle;\n",
       "    }\n",
       "\n",
       "    .dataframe tbody tr th {\n",
       "        vertical-align: top;\n",
       "    }\n",
       "\n",
       "    .dataframe thead th {\n",
       "        text-align: right;\n",
       "    }\n",
       "</style>\n",
       "<table border=\"1\" class=\"dataframe\">\n",
       "  <thead>\n",
       "    <tr style=\"text-align: right;\">\n",
       "      <th></th>\n",
       "      <th>Name</th>\n",
       "      <th>Age</th>\n",
       "      <th>Ctiy</th>\n",
       "      <th>salary</th>\n",
       "    </tr>\n",
       "  </thead>\n",
       "  <tbody>\n",
       "    <tr>\n",
       "      <th>0</th>\n",
       "      <td>Makram</td>\n",
       "      <td>34</td>\n",
       "      <td>South Africa</td>\n",
       "      <td>50000</td>\n",
       "    </tr>\n",
       "    <tr>\n",
       "      <th>1</th>\n",
       "      <td>Smith</td>\n",
       "      <td>45</td>\n",
       "      <td>Australia</td>\n",
       "      <td>6000</td>\n",
       "    </tr>\n",
       "    <tr>\n",
       "      <th>2</th>\n",
       "      <td>Bravo</td>\n",
       "      <td>46</td>\n",
       "      <td>West Indis</td>\n",
       "      <td>7000</td>\n",
       "    </tr>\n",
       "  </tbody>\n",
       "</table>\n",
       "</div>"
      ],
      "text/plain": [
       "     Name  Age          Ctiy  salary\n",
       "0  Makram   34  South Africa   50000\n",
       "1   Smith   45     Australia    6000\n",
       "2   Bravo   46    West Indis    7000"
      ]
     },
     "execution_count": 120,
     "metadata": {},
     "output_type": "execute_result"
    }
   ],
   "source": [
    "import pandas as pd\n",
    "df=pd.read_csv('output_file.csv')\n",
    "df.head()"
   ]
  },
  {
   "cell_type": "code",
   "execution_count": 1,
   "metadata": {},
   "outputs": [
    {
     "name": "stdout",
     "output_type": "stream",
     "text": [
      "Index                                                             5050\n",
      "Customer Id          DD37Cf93aecA6Dc1Ef7b82A4CAAD106F94879bDAfE5a65...\n",
      "First Name           SherylPrestonRoyLindaJoannaAimeeDarrenBrettShe...\n",
      "Last Name            BaxterLozanoBerryOlsenBenderDownsPeckMullenMey...\n",
      "Company              Rasmussen GroupVega-GentryMurillo-PerryDomingu...\n",
      "City                 East LeonardEast JimmychesterIsabelboroughBens...\n",
      "Country              ChileDjiboutiAntigua and BarbudaDominican Repu...\n",
      "Phone 1              229.077.51545153435776+1-539-402-0259001-808-6...\n",
      "Phone 2              397.884.0519x718686-620-1820x944(496)978-3969x...\n",
      "Email                zunigavanessa@smith.infovmata@colon.combeckyca...\n",
      "Subscription Date    2020-08-242021-04-232020-03-252020-06-022021-0...\n",
      "Website              http://www.stephenson.com/http://www.hobbs.com...\n",
      "dtype: object\n"
     ]
    }
   ],
   "source": [
    "import pandas as pd\n",
    "df=pd.read_csv('customers-100.csv')\n",
    "df.head()\n",
    "print(df.drop_duplicates().sum())\n",
    "\n",
    "\n",
    "# df=df.drop('First Name',axis=1)\n",
    "# print(df)\n",
    "\n"
   ]
  },
  {
   "cell_type": "code",
   "execution_count": null,
   "metadata": {},
   "outputs": [],
   "source": []
  }
 ],
 "metadata": {
  "kernelspec": {
   "display_name": "Python 3",
   "language": "python",
   "name": "python3"
  },
  "language_info": {
   "codemirror_mode": {
    "name": "ipython",
    "version": 3
   },
   "file_extension": ".py",
   "mimetype": "text/x-python",
   "name": "python",
   "nbconvert_exporter": "python",
   "pygments_lexer": "ipython3",
   "version": "3.12.2"
  }
 },
 "nbformat": 4,
 "nbformat_minor": 2
}
